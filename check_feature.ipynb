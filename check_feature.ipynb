{
 "cells": [
  {
   "cell_type": "code",
   "execution_count": 1,
   "metadata": {},
   "outputs": [],
   "source": [
    "import torch\n",
    "import torch.nn as nn\n",
    "import torch.nn.functional as F\n",
    "from torch.utils.data import Dataset, DataLoader\n",
    "from tqdm import tqdm\n",
    "import pandas as pd"
   ]
  },
  {
   "cell_type": "code",
   "execution_count": 2,
   "metadata": {},
   "outputs": [],
   "source": [
    "class MELD(Dataset):\n",
    "    def __init__(self, mode, csv, device='cpu', pretrained='/content/MELD.Raw/Pretrained/'):\n",
    "        super().__init__()\n",
    "        self.label = pd.read_csv(csv)['Emotion']\n",
    "        self.video_feature = torch.load(pretrained+f\"video_feature_{mode}.pt\", map_location=device)\n",
    "        self.audio_feature = torch.load(pretrained+f\"audio_feature_{mode}.pt\", map_location=device)\n",
    "        self.text_feature = torch.load(pretrained+f\"text_feature_{mode}.pt\", map_location=device)\n",
    "        self.label_to_index = {'neutral': 0,\n",
    "                               'surprise': 1,\n",
    "                               'fear': 2,\n",
    "                               'sadness': 3,\n",
    "                               'joy': 4,\n",
    "                               'disgust': 5,\n",
    "                               'anger': 6}\n",
    "\n",
    "    def __getitem__(self, index):\n",
    "        return self.video_feature[index], self.audio_feature[index], self.text_feature[index], self.label_to_index[self.label[index]]\n",
    "\n",
    "    def __len__(self):\n",
    "        return self.video_feature.shape[0]\n"
   ]
  },
  {
   "cell_type": "code",
   "execution_count": null,
   "metadata": {},
   "outputs": [],
   "source": []
  }
 ],
 "metadata": {
  "kernelspec": {
   "display_name": "ds",
   "language": "python",
   "name": "python3"
  },
  "language_info": {
   "codemirror_mode": {
    "name": "ipython",
    "version": 3
   },
   "file_extension": ".py",
   "mimetype": "text/x-python",
   "name": "python",
   "nbconvert_exporter": "python",
   "pygments_lexer": "ipython3",
   "version": "3.8.19"
  }
 },
 "nbformat": 4,
 "nbformat_minor": 2
}
