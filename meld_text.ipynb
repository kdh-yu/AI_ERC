{
 "cells": [
  {
   "cell_type": "code",
   "execution_count": 12,
   "metadata": {},
   "outputs": [],
   "source": [
    "import torch\n",
    "import torch.nn as nn\n",
    "import torch.nn.functional as F\n",
    "from torch.utils.data import Dataset, DataLoader\n"
   ]
  },
  {
   "cell_type": "code",
   "execution_count": 13,
   "metadata": {},
   "outputs": [
    {
     "data": {
      "text/plain": [
       "tensor([[7.8029, 7.7918, 8.0412,  ..., 7.3728, 7.9075, 7.8302],\n",
       "        [7.6541, 7.6650, 7.8158,  ..., 7.7378, 7.8277, 7.9552],\n",
       "        [7.7719, 7.8054, 7.7597,  ..., 7.4221, 7.9540, 7.6630],\n",
       "        ...,\n",
       "        [7.5831, 7.7927, 8.0133,  ..., 7.5580, 7.9469, 7.5431],\n",
       "        [7.6394, 7.8788, 7.6675,  ..., 7.5630, 7.8884, 7.9090],\n",
       "        [7.8469, 7.5502, 8.1130,  ..., 7.9290, 8.1559, 8.4261]],\n",
       "       device='mps:0')"
      ]
     },
     "execution_count": 13,
     "metadata": {},
     "output_type": "execute_result"
    }
   ],
   "source": [
    "text_feature = torch.load('./Pretrained/text_feature_train.pt', map_location='mps')\n",
    "text_feature"
   ]
  },
  {
   "cell_type": "code",
   "execution_count": 4,
   "metadata": {},
   "outputs": [
    {
     "data": {
      "text/plain": [
       "torch.Size([9989, 768])"
      ]
     },
     "execution_count": 4,
     "metadata": {},
     "output_type": "execute_result"
    }
   ],
   "source": [
    "text_feature.shape"
   ]
  },
  {
   "cell_type": "code",
   "execution_count": 14,
   "metadata": {},
   "outputs": [
    {
     "data": {
      "text/plain": [
       "0        neutral\n",
       "1        neutral\n",
       "2        neutral\n",
       "3        neutral\n",
       "4       surprise\n",
       "          ...   \n",
       "9984     neutral\n",
       "9985     neutral\n",
       "9986    surprise\n",
       "9987     neutral\n",
       "9988         joy\n",
       "Name: Emotion, Length: 9989, dtype: object"
      ]
     },
     "execution_count": 14,
     "metadata": {},
     "output_type": "execute_result"
    }
   ],
   "source": [
    "import pandas as pd\n",
    "labels = pd.read_csv('./MELD_Data/train.csv')['Emotion']#.unique()\n",
    "labels"
   ]
  },
  {
   "cell_type": "code",
   "execution_count": 53,
   "metadata": {},
   "outputs": [
    {
     "data": {
      "text/plain": [
       "{'neutral': 0,\n",
       " 'surprise': 1,\n",
       " 'fear': 2,\n",
       " 'sadness': 3,\n",
       " 'joy': 4,\n",
       " 'disgust': 5,\n",
       " 'anger': 6}"
      ]
     },
     "execution_count": 53,
     "metadata": {},
     "output_type": "execute_result"
    }
   ],
   "source": [
    "lbl_idx = {labels.unique()[i] : i for i in range(len(labels.unique()))}\n",
    "lbl_idx"
   ]
  },
  {
   "cell_type": "code",
   "execution_count": 56,
   "metadata": {},
   "outputs": [],
   "source": [
    "lbl = []\n",
    "for i in range(len(labels)):\n",
    "    temp = [0] * len(lbl_idx)\n",
    "    temp[lbl_idx[labels[i]]] = 1\n",
    "    lbl.append(temp)\n",
    "lbl = torch.Tensor(lbl).to('mps')"
   ]
  },
  {
   "cell_type": "code",
   "execution_count": 58,
   "metadata": {},
   "outputs": [
    {
     "data": {
      "text/plain": [
       "torch.Size([9989, 7])"
      ]
     },
     "execution_count": 58,
     "metadata": {},
     "output_type": "execute_result"
    }
   ],
   "source": [
    "lbl.shape"
   ]
  },
  {
   "cell_type": "code",
   "execution_count": 73,
   "metadata": {},
   "outputs": [],
   "source": [
    "class MELD(Dataset):\n",
    "    def __init__(self, feat_tensor, df):\n",
    "        super().__init__()\n",
    "        self.data = torch.load(feat_tensor, map_location='mps')\n",
    "        self.labels = pd.read_csv(df)['Emotion']\n",
    "\n",
    "    def __len__(self):\n",
    "        return len(self.labels)\n",
    "\n",
    "    def __getitem__(self, idx):\n",
    "        data = self.data[idx]\n",
    "        label = self.labels[idx]\n",
    "        return data, lbl_idx[label]"
   ]
  },
  {
   "cell_type": "code",
   "execution_count": 74,
   "metadata": {},
   "outputs": [],
   "source": [
    "class Text(nn.Module):\n",
    "    def __init__(self, f_dim, num_class):\n",
    "        super().__init__()\n",
    "        self.clf = nn.Linear(f_dim, num_class)\n",
    "    \n",
    "    def forward(self, x):\n",
    "        x = self.clf(x)\n",
    "        return x"
   ]
  },
  {
   "cell_type": "code",
   "execution_count": 78,
   "metadata": {},
   "outputs": [
    {
     "name": "stdout",
     "output_type": "stream",
     "text": [
      "Epoch 1\n",
      "Accuracy : 32.68%\n",
      "Epoch 2\n",
      "Accuracy : 32.09%\n",
      "Epoch 3\n",
      "Accuracy : 32.31%\n",
      "Epoch 4\n",
      "Accuracy : 32.14%\n",
      "Epoch 5\n",
      "Accuracy : 31.84%\n"
     ]
    }
   ],
   "source": [
    "model = Text(768, 7).to('mps')\n",
    "dataset = MELD('./Pretrained/text_feature_train.pt', './MELD_Data/train.csv')\n",
    "train_loader = DataLoader(dataset, batch_size=4)\n",
    "optim = torch.optim.AdamW(model.parameters(), lr=0.001)\n",
    "loss_fn = nn.CrossEntropyLoss()\n",
    "for epoch in range(5):\n",
    "    print(f\"Epoch {epoch+1}\")\n",
    "    acc = 0\n",
    "    loss_tmp = 0\n",
    "    for data, label in train_loader:\n",
    "        optim.zero_grad()\n",
    "        data, label = data.to('mps'), label.to('mps')\n",
    "        yhat = model(data)\n",
    "        loss = loss_fn(yhat, label)\n",
    "        loss_tmp += loss.item()\n",
    "        loss.backward()\n",
    "        optim.step()\n",
    "        acc += (yhat.argmax(1) == label).type(torch.float).sum().item()\n",
    "    print(f\"Accuracy : {acc/len(dataset)*100:.2f}%\")"
   ]
  }
 ],
 "metadata": {
  "kernelspec": {
   "display_name": "ds",
   "language": "python",
   "name": "python3"
  },
  "language_info": {
   "codemirror_mode": {
    "name": "ipython",
    "version": 3
   },
   "file_extension": ".py",
   "mimetype": "text/x-python",
   "name": "python",
   "nbconvert_exporter": "python",
   "pygments_lexer": "ipython3",
   "version": "3.8.19"
  }
 },
 "nbformat": 4,
 "nbformat_minor": 2
}
